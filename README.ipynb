{
 "cells": [
  {
   "cell_type": "markdown",
   "metadata": {},
   "source": [
    "# Variational Inference Bayesian Neural Networks\n",
    "## Uncertainties in deep learning\n",
    "Modern deep learning models are typically unable to deal with uncertainties, for instance in classification or regression tasks.\n",
    "These uncertainties can be estimated via Bayesian Deep Learning, resulting in powerful tools which are able to capture aleatoric and epistemic uncertainties:\n",
    "* aleatoric uncertainties: noise inherent in the data, which cannot be reduced by increasing the dataset size;\n",
    "* epistemic uncertainties: uncertainty in the model parameters, and therefore can be minimised given enough data.\n",
    "\n",
    "## Method\n",
    "The method presented was first developed in [arXiv:1703.04977](https://arxiv.org/pdf/1703.04977.pdf), and translated into a particle physics applications in [arXiv:2003.11099](https://arxiv.org/abs/2003.11099) and [arxiv:2104.04543](https://arxiv.org/pdf/2104.04543.pdf).\n",
    "In order to capture epistemic uncertainty in a neural network we can place a prior over its parameters $`\\theta \\sim \\mathcal{N}(\\mu, \\sigma)`$\n",
    "\n",
    "## Notebooks\n",
    "\n",
    "We provide a few example notebook to illustrate the technique."
   ]
  }
 ],
 "metadata": {
  "kernelspec": {
   "display_name": "Python 3",
   "language": "python",
   "name": "python3"
  },
  "language_info": {
   "codemirror_mode": {
    "name": "ipython",
    "version": 3
   },
   "file_extension": ".py",
   "mimetype": "text/x-python",
   "name": "python",
   "nbconvert_exporter": "python",
   "pygments_lexer": "ipython3",
   "version": "3.7.6"
  }
 },
 "nbformat": 4,
 "nbformat_minor": 2
}
