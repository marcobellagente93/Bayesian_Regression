{
 "cells": [
  {
   "cell_type": "markdown",
   "metadata": {},
   "source": [
    "# Introduction"
   ]
  },
  {
   "cell_type": "code",
   "execution_count": 1,
   "metadata": {},
   "outputs": [],
   "source": [
    "import torch\n",
    "import torch.nn as nn\n",
    "import torch.nn.functional as F"
   ]
  },
  {
   "cell_type": "code",
   "execution_count": 2,
   "metadata": {},
   "outputs": [],
   "source": [
    "import numpy as np\n",
    "import math\n",
    "import sys"
   ]
  },
  {
   "cell_type": "code",
   "execution_count": 3,
   "metadata": {},
   "outputs": [],
   "source": [
    "import matplotlib.pyplot as plt"
   ]
  },
  {
   "cell_type": "markdown",
   "metadata": {},
   "source": [
    "# Prepare dataset\n",
    "## As an example we consider $y = sin(x)$, with $x \\sim \\mathcal{N}_{0, 0.5}$ and noisy $y$"
   ]
  },
  {
   "cell_type": "code",
   "execution_count": 42,
   "metadata": {},
   "outputs": [
    {
     "data": {
      "image/png": "[encoded data removed]",
      "text/plain": [
       "<Figure size 432x288 with 1 Axes>"
      ]
     },
     "metadata": {
      "needs_background": "light"
     },
     "output_type": "display_data"
    }
   ],
   "source": [
    "n_points = 50\n",
    "\n",
    "x = 2*np.pi * np.random.normal(0, 0.5, n_points)\n",
    "x.sort()\n",
    "x = x.reshape(n_points, 1)\n",
    "y = np.sin(x) + np.random.normal(-0.3, 0.3, x.shape)\n",
    "\n",
    "# Plot to visualise target function\n",
    "plt.scatter(x,y)\n",
    "\n",
    "# Convert to tensor for model training\n",
    "data = torch.Tensor(np.concatenate((x,y),-1))"
   ]
  },
  {
   "cell_type": "markdown",
   "metadata": {},
   "source": [
    "# Define Bayesian linear layer\n",
    "## Here we introduce a simple linear layer based on variational inference"
   ]
  },
  {
   "cell_type": "code",
   "execution_count": 12,
   "metadata": {},
   "outputs": [],
   "source": [
    "class VBLinear(nn.Module):\n",
    "    def __init__(self, in_features, out_features, prior_prec=1.0, map=True):\n",
    "        super(VBLinear, self).__init__()\n",
    "        self.n_in = in_features\n",
    "        self.n_out = out_features\n",
    "\n",
    "        self.prior_prec = prior_prec\n",
    "        self.map = map\n",
    "\n",
    "        self.bias = nn.Parameter(torch.Tensor(out_features))\n",
    "        self.mu_w = nn.Parameter(torch.Tensor(out_features, in_features))\n",
    "        self.logsig2_w = nn.Parameter(torch.Tensor(out_features, in_features))\n",
    "        \n",
    "        self.reset_parameters()\n",
    "\n",
    "    def reset_parameters(self):\n",
    "        stdv = 1. / math.sqrt(self.mu_w.size(1))\n",
    "        self.mu_w.data.normal_(0, stdv)\n",
    "        self.logsig2_w.data.zero_().normal_(-9, 0.001)\n",
    "        self.bias.data.zero_()\n",
    "       \n",
    "    # Define KL divergence between the predicted and the variational posteriors\n",
    "    def KL(self):\n",
    "            logsig2_w = self.logsig2_w.clamp(-11, 11)\n",
    "            kl = 0.5 * (self.prior_prec * (self.mu_w.pow(2) + logsig2_w.exp()) - logsig2_w - 1 - np.log(self.prior_prec)).sum()\n",
    "            return kl\n",
    "\n",
    "    def forward(self, input):\n",
    "        if self.training:\n",
    "            mu_out = F.linear(input, self.mu_w, self.bias)\n",
    "            logsig2_w = self.logsig2_w.clamp(-11, 11)\n",
    "            s2_w = logsig2_w.exp()\n",
    "            var_out = F.linear(input.pow(2), s2_w) + 1e-8\n",
    "            return mu_out + var_out.sqrt() * torch.randn_like(mu_out)\n",
    "        else:\n",
    "            if self.map:\n",
    "                return F.linear(input, self.mu_w, self.bias)\n",
    "            else:\n",
    "                mu_out = F.linear(input, self.mu_w, self.bias)\n",
    "                logsig2_w = self.logsig2_w.clamp(-11, 11)\n",
    "                s2_w = logsig2_w.exp()\n",
    "                var_out = F.linear(input.pow(2), s2_w) + 1e-8\n",
    "                return mu_out + var_out.sqrt() * torch.randn_like(mu_out)\n"
   ]
  },
  {
   "cell_type": "markdown",
   "metadata": {},
   "source": [
    "# Build model"
   ]
  },
  {
   "cell_type": "code",
   "execution_count": null,
   "metadata": {},
   "outputs": [],
   "source": [
    "class Regressor(nn.Module):\n",
    "    def __init__(self, n_layers, input_dim, hidden_dim):\n",
    "        super().__init__()\n",
    "        self.n_layers   = n_layers\n",
    "        self.input_dim  = input_dim\n",
    "        self.hidden_dim = hidden_dim\n",
    "    \n",
    "    def build_model(self):\n",
    "        model = nn.ModuleList()\n",
    "        \n",
    "        model.append(VBLinear(self.input_dim, self.hidden_dim))\n",
    "        model.append(nn.ReLU())\n",
    "        \n",
    "        for l in range(self.n_layers):\n",
    "            model.append(VBLinear(self.hidden_dim, self.hidden_dim))\n",
    "            model.append(nn.ReLU())\n",
    "            \n",
    "        model.append(VBLinear(self.hidden_dim, 2))\n",
    "        \n",
    "        self.model = model\n",
    "        self.params_trainable = list(filter(lambda p: p.requires_grad, self.parameters()))\n",
    "            \n",
    "    def forward(self, x):\n",
    "        for layer in self.model:\n",
    "            x = layer(x)\n",
    "        return x\n",
    "    \n",
    "    def set_optimizer(self):\n",
    "        lr = 1e-3\n",
    "        eps = 1e-6\n",
    "        weight_decay = 0.\n",
    "        gamma = 0.99\n",
    "        \n",
    "        self.optim = torch.optim.Adam(self.params_trainable, \n",
    "                                      lr = lr, \n",
    "                                      betas=[0.9,0.999],\n",
    "                                      eps = eps,\n",
    "                                      weight_decay = weight_decay)\n",
    "        self.scheduler = torch.optim.lr_scheduler.StepLR(optimizer=self.optim,\n",
    "                                                         step_size=1000,\n",
    "                                                         gamma=gamma)\n",
    "            "
   ]
  },
  {
   "cell_type": "markdown",
   "metadata": {},
   "source": [
    "# Create model"
   ]
  },
  {
   "cell_type": "code",
   "execution_count": 49,
   "metadata": {},
   "outputs": [
    {
     "name": "stdout",
     "output_type": "stream",
     "text": [
      "Regressor(\n",
      "  (model): ModuleList(\n",
      "    (0): VBLinear()\n",
      "    (1): ReLU()\n",
      "    (2): VBLinear()\n",
      "  )\n",
      ")\n",
      "Total parameters: 37\n"
     ]
    }
   ],
   "source": [
    "regressor = Regressor(n_layers=0, input_dim=1, hidden_dim=5)\n",
    "regressor.build_model()\n",
    "regressor.set_optimizer()\n",
    "\n",
    "# Print model summary\n",
    "print(regressor)\n",
    "print('Total parameters: %d' % sum([np.prod(p.size()) for p in regressor.params_trainable]))"
   ]
  },
  {
   "cell_type": "code",
   "execution_count": 8,
   "metadata": {},
   "outputs": [],
   "source": [
    "# Train model"
   ]
  },
  {
   "cell_type": "code",
   "execution_count": 57,
   "metadata": {},
   "outputs": [
    {
     "name": "stdout",
     "output_type": "stream",
     "text": [
      "Epoch\t\tNLL train\tKL \t\t lr\n",
      "000 \t\t-0.081125 \t0.475991\t 1.48e-03\n",
      "1000 \t\t-0.014097 \t0.475185\t 1.47e-03\n",
      "2000 \t\t-0.072876 \t0.475557\t 1.45e-03\n",
      "3000 \t\t-0.127544 \t0.474763\t 1.44e-03\n",
      "4000 \t\t-0.092283 \t0.471362\t 1.42e-03\n",
      "5000 \t\t-0.015521 \t0.470544\t 1.41e-03\n",
      "6000 \t\t0.008160 \t0.470249\t 1.39e-03\n",
      "7000 \t\t-0.022415 \t0.471483\t 1.38e-03\n",
      "8000 \t\t-0.032130 \t0.470975\t 1.37e-03\n",
      "9000 \t\t-0.116938 \t0.473639\t 1.35e-03\n",
      "10000 \t\t-0.085560 \t0.471198\t 1.34e-03\n",
      "11000 \t\t-0.062102 \t0.470242\t 1.33e-03\n",
      "12000 \t\t-0.012726 \t0.471159\t 1.31e-03\n",
      "13000 \t\t0.034963 \t0.470910\t 1.30e-03\n",
      "14000 \t\t-0.075601 \t0.470167\t 1.29e-03\n",
      "15000 \t\t-0.132122 \t0.469709\t 1.27e-03\n",
      "16000 \t\t-0.121324 \t0.471319\t 1.26e-03\n",
      "17000 \t\t0.009142 \t0.471009\t 1.25e-03\n",
      "18000 \t\t-0.126208 \t0.471809\t 1.24e-03\n",
      "19000 \t\t-0.073409 \t0.472530\t 1.22e-03\n",
      "20000 \t\t0.010356 \t0.470761\t 1.21e-03\n",
      "21000 \t\t-0.095836 \t0.469427\t 1.20e-03\n",
      "22000 \t\t-0.073372 \t0.470970\t 1.19e-03\n",
      "23000 \t\t-0.091410 \t0.470769\t 1.18e-03\n",
      "24000 \t\t0.025456 \t0.471980\t 1.16e-03\n",
      "25000 \t\t-0.101683 \t0.471956\t 1.15e-03\n",
      "26000 \t\t-0.057602 \t0.472411\t 1.14e-03\n",
      "27000 \t\t-0.041637 \t0.473494\t 1.13e-03\n",
      "28000 \t\t-0.110999 \t0.474049\t 1.12e-03\n",
      "29000 \t\t-0.007235 \t0.474815\t 1.11e-03\n",
      "30000 \t\t-0.027327 \t0.474947\t 1.10e-03\n",
      "31000 \t\t-0.068970 \t0.473080\t 1.08e-03\n",
      "32000 \t\t-0.051035 \t0.473249\t 1.07e-03\n",
      "33000 \t\t-0.062245 \t0.472017\t 1.06e-03\n",
      "34000 \t\t-0.058079 \t0.470930\t 1.05e-03\n",
      "35000 \t\t-0.115256 \t0.470601\t 1.04e-03\n",
      "36000 \t\t-0.046605 \t0.471278\t 1.03e-03\n",
      "37000 \t\t-0.109574 \t0.471022\t 1.02e-03\n",
      "38000 \t\t-0.092614 \t0.471210\t 1.01e-03\n",
      "39000 \t\t-0.125745 \t0.471422\t 1.00e-03\n",
      "40000 \t\t-0.071468 \t0.470917\t 9.91e-04\n",
      "41000 \t\t-0.015617 \t0.471089\t 9.81e-04\n",
      "42000 \t\t-0.103677 \t0.471688\t 9.71e-04\n",
      "43000 \t\t-0.095359 \t0.473510\t 9.62e-04\n",
      "44000 \t\t-0.078227 \t0.474103\t 9.52e-04\n",
      "45000 \t\t-0.077688 \t0.473851\t 9.42e-04\n",
      "46000 \t\t-0.064984 \t0.473999\t 9.33e-04\n",
      "47000 \t\t0.015815 \t0.472693\t 9.24e-04\n",
      "48000 \t\t-0.116490 \t0.472547\t 9.14e-04\n",
      "49000 \t\t-0.023692 \t0.471503\t 9.05e-04\n"
     ]
    }
   ],
   "source": [
    "print('Epoch\\t\\tNLL train\\tKL \\t\\t lr')\n",
    "try:\n",
    "    for epoch in range(50000):\n",
    "        \n",
    "        pred = regressor(data[:,0].view(n_points,1))\n",
    "        \n",
    "        target = data[:,1]\n",
    "        \n",
    "        mu_pred    = pred[:,0]\n",
    "        sigma_pred = pred[:,1]\n",
    "        \n",
    "        # Compute neg log likelihood on the given dataset\n",
    "        nll = torch.mean(0.5 * torch.exp(-sigma_pred) * (mu_pred - target)**2 + 0.5 * sigma_pred)\n",
    "        \n",
    "        # Add KL divergence\n",
    "        kl = 0.\n",
    "        for layer in regressor.model:\n",
    "            if hasattr(layer, 'KL'):\n",
    "                kl += layer.KL()\n",
    "        kl /= n_points\n",
    "        \n",
    "        nll += kl\n",
    "        \n",
    "        regressor.optim.zero_grad()\n",
    "        nll.backward()\n",
    "        regressor.optim.step()\n",
    "        regressor.scheduler.step()\n",
    "        \n",
    "        if not epoch % 1000:\n",
    "            print('%.3i \\t\\t%.6f \\t%.6f\\t %.2e' % (epoch,\n",
    "                                                nll.item(),\n",
    "                                                kl.item(),\n",
    "                                                regressor.optim.param_groups[0]['lr']), flush=True)\n",
    "except:\n",
    "    raise"
   ]
  },
  {
   "cell_type": "code",
   "execution_count": 55,
   "metadata": {},
   "outputs": [
    {
     "data": {
      "text/plain": [
       "<matplotlib.legend.Legend at 0x12392f850>"
      ]
     },
     "execution_count": 55,
     "metadata": {},
     "output_type": "execute_result"
    },
    {
     "data": {
      "image/png": "[encoded data removed]",
      "text/plain": [
       "<Figure size 432x288 with 1 Axes>"
      ]
     },
     "metadata": {
      "needs_background": "light"
     },
     "output_type": "display_data"
    }
   ],
   "source": [
    "pred = regressor(torch.Tensor(x).view(n_points,1)).detach().numpy()\n",
    "mu_pred = pred[:,0]\n",
    "sigma_pred = np.exp(pred[:,1])**0.5\n",
    "\n",
    "x = x.flatten()\n",
    "y = y.flatten()\n",
    "\n",
    "plt.scatter(x, y, label='Training data')\n",
    "plt.plot(x, mu_pred, color='C1', label='Predicted')\n",
    "plt.fill_between(x, mu_pred - sigma_pred , mu_pred + sigma_pred, alpha=0.2, color='C1')\n",
    "plt.legend()"
   ]
  },
  {
   "cell_type": "code",
   "execution_count": null,
   "metadata": {},
   "outputs": [],
   "source": []
  }
 ],
 "metadata": {
  "kernelspec": {
   "display_name": "Python 3",
   "language": "python",
   "name": "python3"
  },
  "language_info": {
   "codemirror_mode": {
    "name": "ipython",
    "version": 3
   },
   "file_extension": ".py",
   "mimetype": "text/x-python",
   "name": "python",
   "nbconvert_exporter": "python",
   "pygments_lexer": "ipython3",
   "version": "3.7.6"
  }
 },
 "nbformat": 4,
 "nbformat_minor": 2
}
