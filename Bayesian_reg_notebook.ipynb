{
 "cells": [
  {
   "cell_type": "markdown",
   "metadata": {},
   "source": [
    "# Introduction"
   ]
  },
  {
   "cell_type": "code",
   "execution_count": 1,
   "metadata": {},
   "outputs": [],
   "source": [
    "import torch\n",
    "import torch.nn as nn\n",
    "import torch.nn.functional as F"
   ]
  },
  {
   "cell_type": "code",
   "execution_count": 2,
   "metadata": {},
   "outputs": [],
   "source": [
    "import numpy as np\n",
    "import math\n",
    "import sys"
   ]
  },
  {
   "cell_type": "code",
   "execution_count": 3,
   "metadata": {},
   "outputs": [],
   "source": [
    "import matplotlib.pyplot as plt"
   ]
  },
  {
   "cell_type": "markdown",
   "metadata": {},
   "source": [
    "# Prepare dataset\n",
    "## As an example we consider $y = sin(x)$, with $x \\sim \\mathcal{N}_{0, 0.5}$ and noisy $y$"
   ]
  },
  {
   "cell_type": "code",
   "execution_count": 42,
   "metadata": {},
   "outputs": [
    {
     "data": {
      "image/png": "[encoded data removed]",
      "text/plain": [
       "<Figure size 432x288 with 1 Axes>"
      ]
     },
     "metadata": {
      "needs_background": "light"
     },
     "output_type": "display_data"
    }
   ],
   "source": [
    "n_points = 50\n",
    "\n",
    "x = 2*np.pi * np.random.normal(0, 0.5, n_points)\n",
    "x.sort()\n",
    "x = x.reshape(n_points, 1)\n",
    "y = np.sin(x) + np.random.normal(-0.3, 0.3, x.shape)\n",
    "\n",
    "# Plot to visualise target function\n",
    "plt.scatter(x,y)\n",
    "\n",
    "# Convert to tensor for model training\n",
    "data = torch.Tensor(np.concatenate((x,y),-1))"
   ]
  },
  {
   "cell_type": "markdown",
   "metadata": {},
   "source": [
    "# Define Bayesian linear layer\n",
    "## Here we introduce a simple linear layer based on variational inference"
   ]
  },
  {
   "cell_type": "code",
   "execution_count": 12,
   "metadata": {},
   "outputs": [],
   "source": [
    "class VBLinear(nn.Module):\n",
    "    def __init__(self, in_features, out_features, prior_prec=1.0, map=True):\n",
    "        super(VBLinear, self).__init__()\n",
    "        self.n_in = in_features\n",
    "        self.n_out = out_features\n",
    "\n",
    "        self.prior_prec = prior_prec\n",
    "        self.map = map\n",
    "\n",
    "        self.bias = nn.Parameter(torch.Tensor(out_features))\n",
    "        self.mu_w = nn.Parameter(torch.Tensor(out_features, in_features))\n",
    "        self.logsig2_w = nn.Parameter(torch.Tensor(out_features, in_features))\n",
    "        \n",
    "        self.reset_parameters()\n",
    "\n",
    "    def reset_parameters(self):\n",
    "        stdv = 1. / math.sqrt(self.mu_w.size(1))\n",
    "        self.mu_w.data.normal_(0, stdv)\n",
    "        self.logsig2_w.data.zero_().normal_(-9, 0.001)\n",
    "        self.bias.data.zero_()\n",
    "       \n",
    "    # Define KL divergence between the predicted and the variational posteriors\n",
    "    def KL(self):\n",
    "            logsig2_w = self.logsig2_w.clamp(-11, 11)\n",
    "            kl = 0.5 * (self.prior_prec * (self.mu_w.pow(2) + logsig2_w.exp()) - logsig2_w - 1 - np.log(self.prior_prec)).sum()\n",
    "            return kl\n",
    "\n",
    "    def forward(self, input):\n",
    "        if self.training:\n",
    "            mu_out = F.linear(input, self.mu_w, self.bias)\n",
    "            logsig2_w = self.logsig2_w.clamp(-11, 11)\n",
    "            s2_w = logsig2_w.exp()\n",
    "            var_out = F.linear(input.pow(2), s2_w) + 1e-8\n",
    "            return mu_out + var_out.sqrt() * torch.randn_like(mu_out)\n",
    "        else:\n",
    "            if self.map:\n",
    "                return F.linear(input, self.mu_w, self.bias)\n",
    "            else:\n",
    "                mu_out = F.linear(input, self.mu_w, self.bias)\n",
    "                logsig2_w = self.logsig2_w.clamp(-11, 11)\n",
    "                s2_w = logsig2_w.exp()\n",
    "                var_out = F.linear(input.pow(2), s2_w) + 1e-8\n",
    "                return mu_out + var_out.sqrt() * torch.randn_like(mu_out)\n"
   ]
  },
  {
   "cell_type": "markdown",
   "metadata": {},
   "source": [
    "# Build model"
   ]
  },
  {
   "cell_type": "code",
   "execution_count": null,
   "metadata": {},
   "outputs": [],
   "source": [
    "class Regressor(nn.Module):\n",
    "    def __init__(self, n_layers, input_dim, hidden_dim):\n",
    "        super().__init__()\n",
    "        self.n_layers   = n_layers\n",
    "        self.input_dim  = input_dim\n",
    "        self.hidden_dim = hidden_dim\n",
    "    \n",
    "    def build_model(self):\n",
    "        model = nn.ModuleList()\n",
    "        \n",
    "        model.append(VBLinear(self.input_dim, self.hidden_dim))\n",
    "        model.append(nn.ReLU())\n",
    "        \n",
    "        for l in range(self.n_layers):\n",
    "            model.append(VBLinear(self.hidden_dim, self.hidden_dim))\n",
    "            model.append(nn.ReLU())\n",
    "            \n",
    "        model.append(VBLinear(self.hidden_dim, 2))\n",
    "        \n",
    "        self.model = model\n",
    "        self.params_trainable = list(filter(lambda p: p.requires_grad, self.parameters()))\n",
    "            \n",
    "    def forward(self, x):\n",
    "        for layer in self.model:\n",
    "            x = layer(x)\n",
    "        return x\n",
    "    \n",
    "    def set_optimizer(self):\n",
    "        lr = 1e-3\n",
    "        eps = 1e-6\n",
    "        weight_decay = 0.\n",
    "        gamma = 0.99\n",
    "        \n",
    "        self.optim = torch.optim.Adam(self.params_trainable, \n",
    "                                      lr = lr, \n",
    "                                      betas=[0.9,0.999],\n",
    "                                      eps = eps,\n",
    "                                      weight_decay = weight_decay)\n",
    "        self.scheduler = torch.optim.lr_scheduler.StepLR(optimizer=self.optim,\n",
    "                                                         step_size=1000,\n",
    "                                                         gamma=gamma)\n",
    "            "
   ]
  },
  {
   "cell_type": "markdown",
   "metadata": {},
   "source": [
    "# Create model"
   ]
  },
  {
   "cell_type": "code",
   "execution_count": 49,
   "metadata": {},
   "outputs": [
    {
     "name": "stdout",
     "output_type": "stream",
     "text": [
      "Regressor(\n",
      "  (model): ModuleList(\n",
      "    (0): VBLinear()\n",
      "    (1): ReLU()\n",
      "    (2): VBLinear()\n",
      "  )\n",
      ")\n",
      "Total parameters: 37\n"
     ]
    }
   ],
   "source": [
    "regressor = Regressor(n_layers=0, input_dim=1, hidden_dim=5)\n",
    "regressor.build_model()\n",
    "regressor.set_optimizer()\n",
    "\n",
    "# Print model summary\n",
    "print(regressor)\n",
    "print('Total parameters: %d' % sum([np.prod(p.size()) for p in regressor.params_trainable]))"
   ]
  },
  {
   "cell_type": "code",
   "execution_count": 8,
   "metadata": {},
   "outputs": [],
   "source": [
    "# Train model"
   ]
  },
  {
   "cell_type": "code",
   "execution_count": 54,
   "metadata": {},
   "outputs": [
    {
     "name": "stdout",
     "output_type": "stream",
     "text": [
      "Epoch\t\tNLL train\tKL \t\t lr\n",
      "000 \t\t-0.055762 \t0.472697\t 4.05e-03\n",
      "1000 \t\t-0.058214 \t0.468443\t 4.01e-03\n",
      "2000 \t\t-0.022371 \t0.470429\t 3.97e-03\n",
      "3000 \t\t0.190856 \t0.474204\t 3.93e-03\n",
      "4000 \t\t-0.077904 \t0.473172\t 3.89e-03\n",
      "5000 \t\t-0.114509 \t0.474070\t 3.85e-03\n",
      "6000 \t\t-0.065016 \t0.472764\t 3.81e-03\n",
      "7000 \t\t0.061024 \t0.482370\t 3.77e-03\n",
      "8000 \t\t-0.009910 \t0.486673\t 3.73e-03\n",
      "9000 \t\t0.021512 \t0.483949\t 3.70e-03\n",
      "10000 \t\t0.075907 \t0.485092\t 3.66e-03\n",
      "11000 \t\t-0.045027 \t0.479089\t 3.62e-03\n",
      "12000 \t\t-0.037692 \t0.477551\t 3.59e-03\n",
      "13000 \t\t-0.112576 \t0.475547\t 3.55e-03\n",
      "14000 \t\t-0.062126 \t0.474448\t 3.52e-03\n",
      "15000 \t\t-0.084368 \t0.470239\t 3.48e-03\n",
      "16000 \t\t-0.013938 \t0.471952\t 3.45e-03\n",
      "17000 \t\t0.097094 \t0.478468\t 3.41e-03\n",
      "18000 \t\t0.034236 \t0.485024\t 3.38e-03\n",
      "19000 \t\t-0.056372 \t0.479951\t 3.34e-03\n",
      "20000 \t\t-0.070693 \t0.477305\t 3.31e-03\n",
      "21000 \t\t0.013649 \t0.475000\t 3.28e-03\n",
      "22000 \t\t-0.075687 \t0.475141\t 3.24e-03\n",
      "23000 \t\t-0.128030 \t0.476184\t 3.21e-03\n",
      "24000 \t\t-0.106564 \t0.476121\t 3.18e-03\n",
      "25000 \t\t-0.135467 \t0.475846\t 3.15e-03\n",
      "26000 \t\t-0.094814 \t0.473860\t 3.12e-03\n",
      "27000 \t\t-0.049303 \t0.478497\t 3.09e-03\n",
      "28000 \t\t-0.168515 \t0.476571\t 3.05e-03\n",
      "29000 \t\t-0.095451 \t0.474814\t 3.02e-03\n",
      "30000 \t\t-0.071572 \t0.476188\t 2.99e-03\n",
      "31000 \t\t-0.088093 \t0.472739\t 2.96e-03\n",
      "32000 \t\t0.011518 \t0.473186\t 2.93e-03\n",
      "33000 \t\t-0.024101 \t0.472322\t 2.90e-03\n",
      "34000 \t\t-0.088806 \t0.473183\t 2.88e-03\n",
      "35000 \t\t-0.102976 \t0.473152\t 2.85e-03\n",
      "36000 \t\t-0.101729 \t0.471803\t 2.82e-03\n",
      "37000 \t\t-0.003459 \t0.472617\t 2.79e-03\n",
      "38000 \t\t-0.003943 \t0.470003\t 2.76e-03\n",
      "39000 \t\t-0.111162 \t0.470957\t 2.73e-03\n",
      "40000 \t\t-0.094537 \t0.473128\t 2.71e-03\n",
      "41000 \t\t-0.031915 \t0.474844\t 2.68e-03\n",
      "42000 \t\t0.005749 \t0.476105\t 2.65e-03\n",
      "43000 \t\t-0.085693 \t0.472987\t 2.63e-03\n",
      "44000 \t\t0.041237 \t0.469599\t 2.60e-03\n",
      "45000 \t\t-0.123112 \t0.473507\t 2.57e-03\n",
      "46000 \t\t-0.060896 \t0.473158\t 2.55e-03\n",
      "47000 \t\t-0.022480 \t0.474277\t 2.52e-03\n",
      "48000 \t\t-0.073859 \t0.471884\t 2.50e-03\n",
      "49000 \t\t-0.084208 \t0.472097\t 2.47e-03\n"
     ]
    }
   ],
   "source": [
    "print('Epoch\\t\\tNLL train\\tKL \\t\\t lr')\n",
    "try:\n",
    "    for epoch in range(50000):\n",
    "        \n",
    "        pred = regressor(data[:,0].view(n_points,1))\n",
    "        \n",
    "        target = data[:,1]\n",
    "        \n",
    "        mu_pred    = pred[:,0]\n",
    "        sigma_pred = pred[:,1]\n",
    "        \n",
    "        # Compute neg log likelihood on the given dataset\n",
    "        nll = torch.mean(0.5 * torch.exp(-sigma_pred) * (mu_pred - target)**2 + 0.5 * sigma_pred)\n",
    "        \n",
    "        # Add KL divergence\n",
    "        kl = 0.\n",
    "        for layer in regressor.model:\n",
    "            if hasattr(layer, 'KL'):\n",
    "                kl += layer.KL()\n",
    "        kl /= n_points\n",
    "        \n",
    "        nll += kl\n",
    "        \n",
    "        regressor.optim.zero_grad()\n",
    "        nll.backward()\n",
    "        regressor.optim.step()\n",
    "        regressor.scheduler.step()\n",
    "        \n",
    "        if not epoch % 1000:\n",
    "            print('%.3i \\t\\t%.6f \\t%.6f\\t %.2e' % (epoch,\n",
    "                                                nll.item(),\n",
    "                                                kl.item(),\n",
    "                                                regressor.optim.param_groups[0]['lr']), flush=True)\n",
    "except:\n",
    "    raise"
   ]
  },
  {
   "cell_type": "code",
   "execution_count": 52,
   "metadata": {},
   "outputs": [
    {
     "data": {
      "text/plain": [
       "<matplotlib.legend.Legend at 0x12362a750>"
      ]
     },
     "execution_count": 52,
     "metadata": {},
     "output_type": "execute_result"
    },
    {
     "data": {
      "image/png": "[encoded data removed]",
      "text/plain": [
       "<Figure size 432x288 with 1 Axes>"
      ]
     },
     "metadata": {
      "needs_background": "light"
     },
     "output_type": "display_data"
    }
   ],
   "source": [
    "pred = regressor(torch.Tensor(x).view(n_points,1)).detach().numpy()\n",
    "mu_pred = pred[:,0]\n",
    "sigma_pred = np.exp(pred[:,1])**0.5\n",
    "\n",
    "x = x.flatten()\n",
    "y = y.flatten()\n",
    "\n",
    "plt.scatter(x, y, label='Training data')\n",
    "plt.plot(x, mu_pred, color='C1', label='Predicted')\n",
    "plt.fill_between(x, mu_pred - sigma_pred , mu_pred + sigma_pred, alpha=0.2, color='C1')\n",
    "plt.legend()"
   ]
  },
  {
   "cell_type": "code",
   "execution_count": null,
   "metadata": {},
   "outputs": [],
   "source": []
  }
 ],
 "metadata": {
  "kernelspec": {
   "display_name": "Python 3",
   "language": "python",
   "name": "python3"
  },
  "language_info": {
   "codemirror_mode": {
    "name": "ipython",
    "version": 3
   },
   "file_extension": ".py",
   "mimetype": "text/x-python",
   "name": "python",
   "nbconvert_exporter": "python",
   "pygments_lexer": "ipython3",
   "version": "3.7.6"
  }
 },
 "nbformat": 4,
 "nbformat_minor": 2
}
